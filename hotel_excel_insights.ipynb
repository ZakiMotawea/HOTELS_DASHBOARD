{
 "cells": [
  {
   "cell_type": "markdown",
   "id": "8f980e0a",
   "metadata": {},
   "source": [
    "### importing libraries"
   ]
  },
  {
   "cell_type": "code",
   "execution_count": 1,
   "id": "8f395b18",
   "metadata": {},
   "outputs": [],
   "source": [
    "import pandas as pd\n",
    "import numpy as np\n",
    "import matplotlib.pyplot as plt\n",
    "import seaborn as sns\n",
    "import plotly.express as px"
   ]
  },
  {
   "cell_type": "code",
   "execution_count": 2,
   "id": "c179ed7a",
   "metadata": {},
   "outputs": [],
   "source": [
    "df=pd.read_excel(r'C:\\Users\\Z.A.M\\Downloads\\EET TEST\\Hotels.xlsx')"
   ]
  },
  {
   "cell_type": "markdown",
   "id": "41a87004",
   "metadata": {},
   "source": [
    "### some exploration and cleaning"
   ]
  },
  {
   "cell_type": "code",
   "execution_count": 3,
   "id": "ccfd1f6b",
   "metadata": {},
   "outputs": [
    {
     "data": {
      "text/html": [
       "<div>\n",
       "<style scoped>\n",
       "    .dataframe tbody tr th:only-of-type {\n",
       "        vertical-align: middle;\n",
       "    }\n",
       "\n",
       "    .dataframe tbody tr th {\n",
       "        vertical-align: top;\n",
       "    }\n",
       "\n",
       "    .dataframe thead th {\n",
       "        text-align: right;\n",
       "    }\n",
       "</style>\n",
       "<table border=\"1\" class=\"dataframe\">\n",
       "  <thead>\n",
       "    <tr style=\"text-align: right;\">\n",
       "      <th></th>\n",
       "      <th>Code</th>\n",
       "      <th>Hotel Name</th>\n",
       "      <th>Roomnights</th>\n",
       "      <th>Sale</th>\n",
       "      <th>Cost</th>\n",
       "      <th>Date</th>\n",
       "      <th>Country</th>\n",
       "    </tr>\n",
       "  </thead>\n",
       "  <tbody>\n",
       "    <tr>\n",
       "      <th>0</th>\n",
       "      <td>CODE|87851</td>\n",
       "      <td>Best Western Premier Al Ahsa Grand Hotel &amp; Suites</td>\n",
       "      <td>57</td>\n",
       "      <td>1140</td>\n",
       "      <td>1140</td>\n",
       "      <td>01, 2019</td>\n",
       "      <td>Saudi Arabia</td>\n",
       "    </tr>\n",
       "    <tr>\n",
       "      <th>1</th>\n",
       "      <td>CODE|87816</td>\n",
       "      <td>Best Western Premier Airporthotel Fontane Berlin</td>\n",
       "      <td>1935</td>\n",
       "      <td>50310</td>\n",
       "      <td>38700</td>\n",
       "      <td>08, 2019</td>\n",
       "      <td>Germany</td>\n",
       "    </tr>\n",
       "    <tr>\n",
       "      <th>2</th>\n",
       "      <td>CODE|87781</td>\n",
       "      <td>Best Western Premier Agung Resort Ubud</td>\n",
       "      <td>1897</td>\n",
       "      <td>37940</td>\n",
       "      <td>34146</td>\n",
       "      <td>01, 2019</td>\n",
       "      <td>Indonesia</td>\n",
       "    </tr>\n",
       "    <tr>\n",
       "      <th>3</th>\n",
       "      <td>CODE|87746</td>\n",
       "      <td>Best Western Posada Freeman</td>\n",
       "      <td>1294</td>\n",
       "      <td>38820</td>\n",
       "      <td>25880</td>\n",
       "      <td>06, 2019</td>\n",
       "      <td>Mexico</td>\n",
       "    </tr>\n",
       "    <tr>\n",
       "      <th>4</th>\n",
       "      <td>CODE|87711</td>\n",
       "      <td>Best Western Pony Soldier Inn &amp; Suites</td>\n",
       "      <td>828</td>\n",
       "      <td>22356</td>\n",
       "      <td>13248</td>\n",
       "      <td>12, 2019</td>\n",
       "      <td>USA</td>\n",
       "    </tr>\n",
       "    <tr>\n",
       "      <th>...</th>\n",
       "      <td>...</td>\n",
       "      <td>...</td>\n",
       "      <td>...</td>\n",
       "      <td>...</td>\n",
       "      <td>...</td>\n",
       "      <td>...</td>\n",
       "      <td>...</td>\n",
       "    </tr>\n",
       "    <tr>\n",
       "      <th>2504</th>\n",
       "      <td>CODE|141</td>\n",
       "      <td>Al Hail Waves Hotel</td>\n",
       "      <td>31</td>\n",
       "      <td>682</td>\n",
       "      <td>589</td>\n",
       "      <td>01, 2019</td>\n",
       "      <td>Oman</td>\n",
       "    </tr>\n",
       "    <tr>\n",
       "      <th>2505</th>\n",
       "      <td>CODE|106</td>\n",
       "      <td>Al Eairy Furnished Apartments Tabuk 6</td>\n",
       "      <td>1097</td>\n",
       "      <td>26328</td>\n",
       "      <td>21940</td>\n",
       "      <td>04, 2019</td>\n",
       "      <td>Saudi Arabia</td>\n",
       "    </tr>\n",
       "    <tr>\n",
       "      <th>2506</th>\n",
       "      <td>CODE|71</td>\n",
       "      <td>Al Bandar Rotana</td>\n",
       "      <td>29</td>\n",
       "      <td>638</td>\n",
       "      <td>435</td>\n",
       "      <td>11, 2019</td>\n",
       "      <td>United Arab Emirates</td>\n",
       "    </tr>\n",
       "    <tr>\n",
       "      <th>2507</th>\n",
       "      <td>CODE|36</td>\n",
       "      <td>Aiden by Best Western @ Scottsdale North</td>\n",
       "      <td>495</td>\n",
       "      <td>14850</td>\n",
       "      <td>8910</td>\n",
       "      <td>09, 2019</td>\n",
       "      <td>USA</td>\n",
       "    </tr>\n",
       "    <tr>\n",
       "      <th>2508</th>\n",
       "      <td>CODE|1</td>\n",
       "      <td>Adagio Aparthotel Jeddah Malik Road</td>\n",
       "      <td>1033</td>\n",
       "      <td>24792</td>\n",
       "      <td>17561</td>\n",
       "      <td>04, 2019</td>\n",
       "      <td>Saudi Arabia</td>\n",
       "    </tr>\n",
       "  </tbody>\n",
       "</table>\n",
       "<p>2509 rows × 7 columns</p>\n",
       "</div>"
      ],
      "text/plain": [
       "            Code                                         Hotel Name  \\\n",
       "0     CODE|87851  Best Western Premier Al Ahsa Grand Hotel & Suites   \n",
       "1     CODE|87816   Best Western Premier Airporthotel Fontane Berlin   \n",
       "2     CODE|87781             Best Western Premier Agung Resort Ubud   \n",
       "3     CODE|87746                        Best Western Posada Freeman   \n",
       "4     CODE|87711             Best Western Pony Soldier Inn & Suites   \n",
       "...          ...                                                ...   \n",
       "2504    CODE|141                                Al Hail Waves Hotel   \n",
       "2505    CODE|106              Al Eairy Furnished Apartments Tabuk 6   \n",
       "2506     CODE|71                                   Al Bandar Rotana   \n",
       "2507     CODE|36           Aiden by Best Western @ Scottsdale North   \n",
       "2508      CODE|1                Adagio Aparthotel Jeddah Malik Road   \n",
       "\n",
       "      Roomnights   Sale   Cost      Date               Country  \n",
       "0             57   1140   1140  01, 2019          Saudi Arabia  \n",
       "1           1935  50310  38700  08, 2019               Germany  \n",
       "2           1897  37940  34146  01, 2019             Indonesia  \n",
       "3           1294  38820  25880  06, 2019                Mexico  \n",
       "4            828  22356  13248  12, 2019                   USA  \n",
       "...          ...    ...    ...       ...                   ...  \n",
       "2504          31    682    589  01, 2019                  Oman  \n",
       "2505        1097  26328  21940  04, 2019          Saudi Arabia  \n",
       "2506          29    638    435  11, 2019  United Arab Emirates  \n",
       "2507         495  14850   8910  09, 2019                   USA  \n",
       "2508        1033  24792  17561  04, 2019          Saudi Arabia  \n",
       "\n",
       "[2509 rows x 7 columns]"
      ]
     },
     "execution_count": 3,
     "metadata": {},
     "output_type": "execute_result"
    }
   ],
   "source": [
    "df"
   ]
  },
  {
   "cell_type": "code",
   "execution_count": 4,
   "id": "f425d952",
   "metadata": {},
   "outputs": [
    {
     "data": {
      "text/plain": [
       "9"
      ]
     },
     "execution_count": 4,
     "metadata": {},
     "output_type": "execute_result"
    }
   ],
   "source": [
    "df.duplicated().sum()"
   ]
  },
  {
   "cell_type": "markdown",
   "id": "e1bb1c22",
   "metadata": {},
   "source": [
    "### drop duplicated"
   ]
  },
  {
   "cell_type": "code",
   "execution_count": 5,
   "id": "89bff439",
   "metadata": {},
   "outputs": [],
   "source": [
    "df.drop_duplicates(inplace=True)"
   ]
  },
  {
   "cell_type": "code",
   "execution_count": 6,
   "id": "7cb7a84c",
   "metadata": {},
   "outputs": [
    {
     "data": {
      "text/plain": [
       "0"
      ]
     },
     "execution_count": 6,
     "metadata": {},
     "output_type": "execute_result"
    }
   ],
   "source": [
    "df.duplicated().sum()"
   ]
  },
  {
   "cell_type": "markdown",
   "id": "9e1a1c60",
   "metadata": {},
   "source": [
    "### null percentage"
   ]
  },
  {
   "cell_type": "code",
   "execution_count": 7,
   "id": "e733039f",
   "metadata": {},
   "outputs": [
    {
     "data": {
      "text/plain": [
       "Code          0.000\n",
       "Hotel Name    0.000\n",
       "Roomnights    0.000\n",
       "Sale          0.000\n",
       "Cost          0.000\n",
       "Date          0.000\n",
       "Country       0.004\n",
       "dtype: float64"
      ]
     },
     "execution_count": 7,
     "metadata": {},
     "output_type": "execute_result"
    }
   ],
   "source": [
    "df.isnull().sum()/len(df)"
   ]
  },
  {
   "cell_type": "markdown",
   "id": "8712009b",
   "metadata": {},
   "source": [
    "### droping null values"
   ]
  },
  {
   "cell_type": "code",
   "execution_count": 8,
   "id": "a91a5815",
   "metadata": {},
   "outputs": [],
   "source": [
    "df.dropna(inplace=True)"
   ]
  },
  {
   "cell_type": "code",
   "execution_count": 9,
   "id": "5d88e817",
   "metadata": {},
   "outputs": [
    {
     "name": "stdout",
     "output_type": "stream",
     "text": [
      "<class 'pandas.core.frame.DataFrame'>\n",
      "Int64Index: 2490 entries, 0 to 2508\n",
      "Data columns (total 7 columns):\n",
      " #   Column      Non-Null Count  Dtype \n",
      "---  ------      --------------  ----- \n",
      " 0   Code        2490 non-null   object\n",
      " 1   Hotel Name  2490 non-null   object\n",
      " 2   Roomnights  2490 non-null   int64 \n",
      " 3   Sale        2490 non-null   int64 \n",
      " 4   Cost        2490 non-null   int64 \n",
      " 5   Date        2490 non-null   object\n",
      " 6   Country     2490 non-null   object\n",
      "dtypes: int64(3), object(4)\n",
      "memory usage: 155.6+ KB\n"
     ]
    }
   ],
   "source": [
    "df.info()"
   ]
  },
  {
   "cell_type": "code",
   "execution_count": 10,
   "id": "6b5acb63",
   "metadata": {},
   "outputs": [
    {
     "data": {
      "text/html": [
       "<div>\n",
       "<style scoped>\n",
       "    .dataframe tbody tr th:only-of-type {\n",
       "        vertical-align: middle;\n",
       "    }\n",
       "\n",
       "    .dataframe tbody tr th {\n",
       "        vertical-align: top;\n",
       "    }\n",
       "\n",
       "    .dataframe thead th {\n",
       "        text-align: right;\n",
       "    }\n",
       "</style>\n",
       "<table border=\"1\" class=\"dataframe\">\n",
       "  <thead>\n",
       "    <tr style=\"text-align: right;\">\n",
       "      <th></th>\n",
       "      <th>Roomnights</th>\n",
       "      <th>Sale</th>\n",
       "      <th>Cost</th>\n",
       "    </tr>\n",
       "  </thead>\n",
       "  <tbody>\n",
       "    <tr>\n",
       "      <th>count</th>\n",
       "      <td>2490.000000</td>\n",
       "      <td>2490.000000</td>\n",
       "      <td>2490.000000</td>\n",
       "    </tr>\n",
       "    <tr>\n",
       "      <th>mean</th>\n",
       "      <td>1000.614056</td>\n",
       "      <td>25070.577510</td>\n",
       "      <td>17555.405221</td>\n",
       "    </tr>\n",
       "    <tr>\n",
       "      <th>std</th>\n",
       "      <td>576.591141</td>\n",
       "      <td>14915.867269</td>\n",
       "      <td>10313.780088</td>\n",
       "    </tr>\n",
       "    <tr>\n",
       "      <th>min</th>\n",
       "      <td>1.000000</td>\n",
       "      <td>28.000000</td>\n",
       "      <td>16.000000</td>\n",
       "    </tr>\n",
       "    <tr>\n",
       "      <th>25%</th>\n",
       "      <td>500.500000</td>\n",
       "      <td>12399.750000</td>\n",
       "      <td>8657.000000</td>\n",
       "    </tr>\n",
       "    <tr>\n",
       "      <th>50%</th>\n",
       "      <td>1001.000000</td>\n",
       "      <td>24598.500000</td>\n",
       "      <td>17479.000000</td>\n",
       "    </tr>\n",
       "    <tr>\n",
       "      <th>75%</th>\n",
       "      <td>1503.750000</td>\n",
       "      <td>37057.500000</td>\n",
       "      <td>26005.750000</td>\n",
       "    </tr>\n",
       "    <tr>\n",
       "      <th>max</th>\n",
       "      <td>1999.000000</td>\n",
       "      <td>59130.000000</td>\n",
       "      <td>39720.000000</td>\n",
       "    </tr>\n",
       "  </tbody>\n",
       "</table>\n",
       "</div>"
      ],
      "text/plain": [
       "        Roomnights          Sale          Cost\n",
       "count  2490.000000   2490.000000   2490.000000\n",
       "mean   1000.614056  25070.577510  17555.405221\n",
       "std     576.591141  14915.867269  10313.780088\n",
       "min       1.000000     28.000000     16.000000\n",
       "25%     500.500000  12399.750000   8657.000000\n",
       "50%    1001.000000  24598.500000  17479.000000\n",
       "75%    1503.750000  37057.500000  26005.750000\n",
       "max    1999.000000  59130.000000  39720.000000"
      ]
     },
     "execution_count": 10,
     "metadata": {},
     "output_type": "execute_result"
    }
   ],
   "source": [
    "df.describe()"
   ]
  },
  {
   "cell_type": "code",
   "execution_count": 11,
   "id": "2aea1175",
   "metadata": {},
   "outputs": [
    {
     "data": {
      "text/plain": [
       "2490"
      ]
     },
     "execution_count": 11,
     "metadata": {},
     "output_type": "execute_result"
    }
   ],
   "source": [
    "df['Code'].nunique()"
   ]
  },
  {
   "cell_type": "markdown",
   "id": "8bb37e32",
   "metadata": {},
   "source": [
    "### creating new column (feature engineering)"
   ]
  },
  {
   "cell_type": "code",
   "execution_count": 12,
   "id": "4b13e154",
   "metadata": {},
   "outputs": [],
   "source": [
    "df['Profit']=df['Sale']-df['Cost']"
   ]
  },
  {
   "cell_type": "markdown",
   "id": "31d7ff95",
   "metadata": {},
   "source": [
    "### Hotels with highest losses"
   ]
  },
  {
   "cell_type": "code",
   "execution_count": 13,
   "id": "0f16208a",
   "metadata": {},
   "outputs": [
    {
     "data": {
      "text/html": [
       "<div>\n",
       "<style scoped>\n",
       "    .dataframe tbody tr th:only-of-type {\n",
       "        vertical-align: middle;\n",
       "    }\n",
       "\n",
       "    .dataframe tbody tr th {\n",
       "        vertical-align: top;\n",
       "    }\n",
       "\n",
       "    .dataframe thead th {\n",
       "        text-align: right;\n",
       "    }\n",
       "</style>\n",
       "<table border=\"1\" class=\"dataframe\">\n",
       "  <thead>\n",
       "    <tr style=\"text-align: right;\">\n",
       "      <th></th>\n",
       "      <th>Profit</th>\n",
       "    </tr>\n",
       "    <tr>\n",
       "      <th>Hotel Name</th>\n",
       "      <th></th>\n",
       "    </tr>\n",
       "  </thead>\n",
       "  <tbody>\n",
       "    <tr>\n",
       "      <th>9Hotel Republique</th>\n",
       "      <td>-1275</td>\n",
       "    </tr>\n",
       "    <tr>\n",
       "      <th>Sheraton Moscow Sheremetyevo Airport Hotel</th>\n",
       "      <td>-1122</td>\n",
       "    </tr>\n",
       "    <tr>\n",
       "      <th>Aber City Center</th>\n",
       "      <td>-316</td>\n",
       "    </tr>\n",
       "    <tr>\n",
       "      <th>#bunk Hotel</th>\n",
       "      <td>-72</td>\n",
       "    </tr>\n",
       "    <tr>\n",
       "      <th>Amari Don Muang Airport Bangkok</th>\n",
       "      <td>0</td>\n",
       "    </tr>\n",
       "    <tr>\n",
       "      <th>Best Western Andersen's Inn</th>\n",
       "      <td>0</td>\n",
       "    </tr>\n",
       "    <tr>\n",
       "      <th>Best Western Hazlet Inn</th>\n",
       "      <td>0</td>\n",
       "    </tr>\n",
       "    <tr>\n",
       "      <th>Best Western Adams Inn Quincy - Boston</th>\n",
       "      <td>0</td>\n",
       "    </tr>\n",
       "    <tr>\n",
       "      <th>Fairfield by Marriott Curitiba Afonso Pena Airport</th>\n",
       "      <td>0</td>\n",
       "    </tr>\n",
       "    <tr>\n",
       "      <th>Al Hambra Hotel</th>\n",
       "      <td>0</td>\n",
       "    </tr>\n",
       "  </tbody>\n",
       "</table>\n",
       "</div>"
      ],
      "text/plain": [
       "                                                    Profit\n",
       "Hotel Name                                                \n",
       "9Hotel Republique                                    -1275\n",
       " Sheraton Moscow Sheremetyevo Airport Hotel          -1122\n",
       "Aber City Center                                      -316\n",
       "#bunk Hotel                                            -72\n",
       "Amari Don Muang Airport Bangkok                          0\n",
       "Best Western Andersen's Inn                              0\n",
       "Best Western Hazlet Inn                                  0\n",
       "Best Western Adams Inn Quincy - Boston                   0\n",
       " Fairfield by Marriott Curitiba Afonso Pena Air...       0\n",
       "Al Hambra Hotel                                          0"
      ]
     },
     "execution_count": 13,
     "metadata": {},
     "output_type": "execute_result"
    }
   ],
   "source": [
    "df.groupby('Hotel Name')[['Profit']].agg(np.max).sort_values('Profit')[0:10]"
   ]
  },
  {
   "cell_type": "code",
   "execution_count": 14,
   "id": "47c36f84",
   "metadata": {},
   "outputs": [
    {
     "data": {
      "text/plain": [
       "<AxesSubplot:ylabel='Hotel Name'>"
      ]
     },
     "execution_count": 14,
     "metadata": {},
     "output_type": "execute_result"
    },
    {
     "data": {
      "image/png": "[encoded data removed]",
      "text/plain": [
       "<Figure size 640x480 with 1 Axes>"
      ]
     },
     "metadata": {},
     "output_type": "display_data"
    }
   ],
   "source": [
    "df.groupby('Hotel Name')[['Profit']].agg(np.max).sort_values('Profit')[0:10].plot.barh(color='r')"
   ]
  },
  {
   "cell_type": "markdown",
   "id": "5e240989",
   "metadata": {},
   "source": [
    "### Hotels with highest profitability"
   ]
  },
  {
   "cell_type": "code",
   "execution_count": 15,
   "id": "e562db5e",
   "metadata": {},
   "outputs": [
    {
     "data": {
      "text/html": [
       "<div>\n",
       "<style scoped>\n",
       "    .dataframe tbody tr th:only-of-type {\n",
       "        vertical-align: middle;\n",
       "    }\n",
       "\n",
       "    .dataframe tbody tr th {\n",
       "        vertical-align: top;\n",
       "    }\n",
       "\n",
       "    .dataframe thead th {\n",
       "        text-align: right;\n",
       "    }\n",
       "</style>\n",
       "<table border=\"1\" class=\"dataframe\">\n",
       "  <thead>\n",
       "    <tr style=\"text-align: right;\">\n",
       "      <th></th>\n",
       "      <th>Profit</th>\n",
       "    </tr>\n",
       "    <tr>\n",
       "      <th>Hotel Name</th>\n",
       "      <th></th>\n",
       "    </tr>\n",
       "  </thead>\n",
       "  <tbody>\n",
       "    <tr>\n",
       "      <th>acora Hotel und Wohnen</th>\n",
       "      <td>28350</td>\n",
       "    </tr>\n",
       "    <tr>\n",
       "      <th>Best Western City Hotel Moran</th>\n",
       "      <td>27706</td>\n",
       "    </tr>\n",
       "    <tr>\n",
       "      <th>Aber Khamis Mushait</th>\n",
       "      <td>27495</td>\n",
       "    </tr>\n",
       "    <tr>\n",
       "      <th>Arthur Garden Inn Hotel</th>\n",
       "      <td>27286</td>\n",
       "    </tr>\n",
       "    <tr>\n",
       "      <th>Bel Azur Hotel</th>\n",
       "      <td>27258</td>\n",
       "    </tr>\n",
       "    <tr>\n",
       "      <th>Best Western Abbots Barton Hotel</th>\n",
       "      <td>27076</td>\n",
       "    </tr>\n",
       "    <tr>\n",
       "      <th>AC Hotel Raleigh North Hills</th>\n",
       "      <td>26460</td>\n",
       "    </tr>\n",
       "    <tr>\n",
       "      <th>Albergo le Due Corti</th>\n",
       "      <td>26348</td>\n",
       "    </tr>\n",
       "    <tr>\n",
       "      <th>Amber Hotel</th>\n",
       "      <td>26265</td>\n",
       "    </tr>\n",
       "    <tr>\n",
       "      <th>Best Western Plus Cobourg Inn &amp; Convention Centre</th>\n",
       "      <td>25998</td>\n",
       "    </tr>\n",
       "  </tbody>\n",
       "</table>\n",
       "</div>"
      ],
      "text/plain": [
       "                                                   Profit\n",
       "Hotel Name                                               \n",
       "acora Hotel und Wohnen                              28350\n",
       "Best Western City Hotel Moran                       27706\n",
       "Aber Khamis Mushait                                 27495\n",
       "Arthur Garden Inn Hotel                             27286\n",
       "Bel Azur Hotel                                      27258\n",
       "Best Western Abbots Barton Hotel                    27076\n",
       "AC Hotel Raleigh North Hills                        26460\n",
       "Albergo le Due Corti                                26348\n",
       "Amber Hotel                                         26265\n",
       "Best Western Plus Cobourg Inn & Convention Centre   25998"
      ]
     },
     "execution_count": 15,
     "metadata": {},
     "output_type": "execute_result"
    }
   ],
   "source": [
    "df.groupby('Hotel Name')[['Profit']].agg(np.max).sort_values('Profit',ascending=False)[0:10]"
   ]
  },
  {
   "cell_type": "code",
   "execution_count": 16,
   "id": "bd0befed",
   "metadata": {},
   "outputs": [
    {
     "data": {
      "text/plain": [
       "<AxesSubplot:ylabel='Hotel Name'>"
      ]
     },
     "execution_count": 16,
     "metadata": {},
     "output_type": "execute_result"
    },
    {
     "data": {
      "image/png": "[encoded data removed]",
      "text/plain": [
       "<Figure size 640x480 with 1 Axes>"
      ]
     },
     "metadata": {},
     "output_type": "display_data"
    }
   ],
   "source": [
    "df.groupby('Hotel Name')[['Profit']].agg(np.max).sort_values('Profit',ascending=False)[0:10].plot.barh(color='g')"
   ]
  },
  {
   "cell_type": "markdown",
   "id": "c779dd97",
   "metadata": {},
   "source": [
    "### Countries with highest losses"
   ]
  },
  {
   "cell_type": "code",
   "execution_count": 17,
   "id": "a0ef3aa1",
   "metadata": {},
   "outputs": [
    {
     "data": {
      "text/html": [
       "<div>\n",
       "<style scoped>\n",
       "    .dataframe tbody tr th:only-of-type {\n",
       "        vertical-align: middle;\n",
       "    }\n",
       "\n",
       "    .dataframe tbody tr th {\n",
       "        vertical-align: top;\n",
       "    }\n",
       "\n",
       "    .dataframe thead th {\n",
       "        text-align: right;\n",
       "    }\n",
       "</style>\n",
       "<table border=\"1\" class=\"dataframe\">\n",
       "  <thead>\n",
       "    <tr style=\"text-align: right;\">\n",
       "      <th></th>\n",
       "      <th>Profit</th>\n",
       "    </tr>\n",
       "    <tr>\n",
       "      <th>Country</th>\n",
       "      <th></th>\n",
       "    </tr>\n",
       "  </thead>\n",
       "  <tbody>\n",
       "    <tr>\n",
       "      <th>Sudan</th>\n",
       "      <td>258</td>\n",
       "    </tr>\n",
       "    <tr>\n",
       "      <th>Botswana</th>\n",
       "      <td>343</td>\n",
       "    </tr>\n",
       "    <tr>\n",
       "      <th>Finland</th>\n",
       "      <td>1035</td>\n",
       "    </tr>\n",
       "    <tr>\n",
       "      <th>Puerto Rico</th>\n",
       "      <td>1792</td>\n",
       "    </tr>\n",
       "    <tr>\n",
       "      <th>Ireland</th>\n",
       "      <td>1894</td>\n",
       "    </tr>\n",
       "    <tr>\n",
       "      <th>Paraguay</th>\n",
       "      <td>2168</td>\n",
       "    </tr>\n",
       "    <tr>\n",
       "      <th>Ukraine</th>\n",
       "      <td>2256</td>\n",
       "    </tr>\n",
       "    <tr>\n",
       "      <th>Malta</th>\n",
       "      <td>3330</td>\n",
       "    </tr>\n",
       "    <tr>\n",
       "      <th>Lithuania</th>\n",
       "      <td>3636</td>\n",
       "    </tr>\n",
       "    <tr>\n",
       "      <th>New Zealand</th>\n",
       "      <td>4385</td>\n",
       "    </tr>\n",
       "  </tbody>\n",
       "</table>\n",
       "</div>"
      ],
      "text/plain": [
       "             Profit\n",
       "Country            \n",
       "Sudan           258\n",
       "Botswana        343\n",
       "Finland        1035\n",
       "Puerto Rico    1792\n",
       "Ireland        1894\n",
       "Paraguay       2168\n",
       "Ukraine        2256\n",
       "Malta          3330\n",
       "Lithuania      3636\n",
       "New Zealand    4385"
      ]
     },
     "execution_count": 17,
     "metadata": {},
     "output_type": "execute_result"
    }
   ],
   "source": [
    "df.groupby('Country')[['Profit']].sum().sort_values('Profit')[0:10]"
   ]
  },
  {
   "cell_type": "code",
   "execution_count": 18,
   "id": "710cecdc",
   "metadata": {},
   "outputs": [
    {
     "data": {
      "text/plain": [
       "<AxesSubplot:ylabel='Country'>"
      ]
     },
     "execution_count": 18,
     "metadata": {},
     "output_type": "execute_result"
    },
    {
     "data": {
      "image/png": "[encoded data removed]",
      "text/plain": [
       "<Figure size 640x480 with 1 Axes>"
      ]
     },
     "metadata": {},
     "output_type": "display_data"
    }
   ],
   "source": [
    "df.groupby('Country')[['Profit']].sum().sort_values('Profit')[0:10].plot.barh(color='r')"
   ]
  },
  {
   "cell_type": "markdown",
   "id": "22ca04e1",
   "metadata": {},
   "source": [
    "### Countries with highest profitability"
   ]
  },
  {
   "cell_type": "code",
   "execution_count": 19,
   "id": "f76449a9",
   "metadata": {},
   "outputs": [
    {
     "data": {
      "text/html": [
       "<div>\n",
       "<style scoped>\n",
       "    .dataframe tbody tr th:only-of-type {\n",
       "        vertical-align: middle;\n",
       "    }\n",
       "\n",
       "    .dataframe tbody tr th {\n",
       "        vertical-align: top;\n",
       "    }\n",
       "\n",
       "    .dataframe thead th {\n",
       "        text-align: right;\n",
       "    }\n",
       "</style>\n",
       "<table border=\"1\" class=\"dataframe\">\n",
       "  <thead>\n",
       "    <tr style=\"text-align: right;\">\n",
       "      <th></th>\n",
       "      <th>Profit</th>\n",
       "    </tr>\n",
       "    <tr>\n",
       "      <th>Country</th>\n",
       "      <th></th>\n",
       "    </tr>\n",
       "  </thead>\n",
       "  <tbody>\n",
       "    <tr>\n",
       "      <th>USA</th>\n",
       "      <td>1963852</td>\n",
       "    </tr>\n",
       "    <tr>\n",
       "      <th>Saudi Arabia</th>\n",
       "      <td>1695994</td>\n",
       "    </tr>\n",
       "    <tr>\n",
       "      <th>Spain</th>\n",
       "      <td>1515132</td>\n",
       "    </tr>\n",
       "    <tr>\n",
       "      <th>Turkey</th>\n",
       "      <td>1092326</td>\n",
       "    </tr>\n",
       "    <tr>\n",
       "      <th>Italy</th>\n",
       "      <td>1037531</td>\n",
       "    </tr>\n",
       "    <tr>\n",
       "      <th>France</th>\n",
       "      <td>928209</td>\n",
       "    </tr>\n",
       "    <tr>\n",
       "      <th>Germany</th>\n",
       "      <td>874676</td>\n",
       "    </tr>\n",
       "    <tr>\n",
       "      <th>United Arab Emirates</th>\n",
       "      <td>868775</td>\n",
       "    </tr>\n",
       "    <tr>\n",
       "      <th>Thailand</th>\n",
       "      <td>738607</td>\n",
       "    </tr>\n",
       "    <tr>\n",
       "      <th>Greece</th>\n",
       "      <td>684917</td>\n",
       "    </tr>\n",
       "  </tbody>\n",
       "</table>\n",
       "</div>"
      ],
      "text/plain": [
       "                       Profit\n",
       "Country                      \n",
       "USA                   1963852\n",
       "Saudi Arabia          1695994\n",
       "Spain                 1515132\n",
       "Turkey                1092326\n",
       "Italy                 1037531\n",
       "France                 928209\n",
       "Germany                874676\n",
       "United Arab Emirates   868775\n",
       "Thailand               738607\n",
       "Greece                 684917"
      ]
     },
     "execution_count": 19,
     "metadata": {},
     "output_type": "execute_result"
    }
   ],
   "source": [
    "df.groupby('Country')[['Profit']].sum().sort_values('Profit',ascending=False)[0:10]"
   ]
  },
  {
   "cell_type": "code",
   "execution_count": 20,
   "id": "a11365e2",
   "metadata": {},
   "outputs": [
    {
     "data": {
      "text/plain": [
       "<AxesSubplot:ylabel='Country'>"
      ]
     },
     "execution_count": 20,
     "metadata": {},
     "output_type": "execute_result"
    },
    {
     "data": {
      "image/png": "[encoded data removed]",
      "text/plain": [
       "<Figure size 640x480 with 1 Axes>"
      ]
     },
     "metadata": {},
     "output_type": "display_data"
    }
   ],
   "source": [
    "df.groupby('Country')[['Profit']].sum().sort_values('Profit',ascending=False)[0:10].plot.barh(color='g')"
   ]
  },
  {
   "cell_type": "markdown",
   "id": "565fb866",
   "metadata": {},
   "source": [
    "### Total Sales per country."
   ]
  },
  {
   "cell_type": "code",
   "execution_count": 21,
   "id": "53f52d4d",
   "metadata": {},
   "outputs": [
    {
     "data": {
      "text/html": [
       "<div>\n",
       "<style scoped>\n",
       "    .dataframe tbody tr th:only-of-type {\n",
       "        vertical-align: middle;\n",
       "    }\n",
       "\n",
       "    .dataframe tbody tr th {\n",
       "        vertical-align: top;\n",
       "    }\n",
       "\n",
       "    .dataframe thead th {\n",
       "        text-align: right;\n",
       "    }\n",
       "</style>\n",
       "<table border=\"1\" class=\"dataframe\">\n",
       "  <thead>\n",
       "    <tr style=\"text-align: right;\">\n",
       "      <th></th>\n",
       "      <th>Sale</th>\n",
       "    </tr>\n",
       "    <tr>\n",
       "      <th>Country</th>\n",
       "      <th></th>\n",
       "    </tr>\n",
       "  </thead>\n",
       "  <tbody>\n",
       "    <tr>\n",
       "      <th>Albania</th>\n",
       "      <td>21897</td>\n",
       "    </tr>\n",
       "    <tr>\n",
       "      <th>Algeria</th>\n",
       "      <td>97939</td>\n",
       "    </tr>\n",
       "    <tr>\n",
       "      <th>Andorra</th>\n",
       "      <td>39266</td>\n",
       "    </tr>\n",
       "    <tr>\n",
       "      <th>Argentina</th>\n",
       "      <td>258250</td>\n",
       "    </tr>\n",
       "    <tr>\n",
       "      <th>Armenia</th>\n",
       "      <td>210914</td>\n",
       "    </tr>\n",
       "    <tr>\n",
       "      <th>...</th>\n",
       "      <td>...</td>\n",
       "    </tr>\n",
       "    <tr>\n",
       "      <th>Ukraine</th>\n",
       "      <td>11844</td>\n",
       "    </tr>\n",
       "    <tr>\n",
       "      <th>United Arab Emirates</th>\n",
       "      <td>2923723</td>\n",
       "    </tr>\n",
       "    <tr>\n",
       "      <th>United Kingdom</th>\n",
       "      <td>1487698</td>\n",
       "    </tr>\n",
       "    <tr>\n",
       "      <th>Vietnam</th>\n",
       "      <td>86911</td>\n",
       "    </tr>\n",
       "    <tr>\n",
       "      <th>Zambia</th>\n",
       "      <td>12290</td>\n",
       "    </tr>\n",
       "  </tbody>\n",
       "</table>\n",
       "<p>106 rows × 1 columns</p>\n",
       "</div>"
      ],
      "text/plain": [
       "                         Sale\n",
       "Country                      \n",
       "Albania                 21897\n",
       "Algeria                 97939\n",
       "Andorra                 39266\n",
       "Argentina              258250\n",
       "Armenia                210914\n",
       "...                       ...\n",
       "Ukraine                 11844\n",
       "United Arab Emirates  2923723\n",
       "United Kingdom        1487698\n",
       "Vietnam                 86911\n",
       "Zambia                  12290\n",
       "\n",
       "[106 rows x 1 columns]"
      ]
     },
     "execution_count": 21,
     "metadata": {},
     "output_type": "execute_result"
    }
   ],
   "source": [
    "df.groupby('Country')[['Sale']].sum()"
   ]
  },
  {
   "cell_type": "markdown",
   "id": "b40c6e55",
   "metadata": {},
   "source": [
    "### Cluster the data by room nights into three categories: high demand, mid demand, and low demand \n",
    "### in a new column and identify the distribution"
   ]
  },
  {
   "cell_type": "code",
   "execution_count": 22,
   "id": "c3ec1a01",
   "metadata": {},
   "outputs": [],
   "source": [
    "bins = [0, 50, 100, df['Roomnights'].max()]\n",
    "labels = ['Low', 'Mid', 'High']\n",
    "df['Demand'] = pd.cut(df['Roomnights'], bins=bins, labels=labels)"
   ]
  },
  {
   "cell_type": "code",
   "execution_count": 23,
   "id": "6ee6ce6a",
   "metadata": {},
   "outputs": [
    {
     "data": {
      "text/plain": [
       "High    2375\n",
       "Low       61\n",
       "Mid       54\n",
       "Name: Demand, dtype: int64"
      ]
     },
     "execution_count": 23,
     "metadata": {},
     "output_type": "execute_result"
    }
   ],
   "source": [
    "df['Demand'].value_counts()"
   ]
  },
  {
   "cell_type": "code",
   "execution_count": 24,
   "id": "f21614e4",
   "metadata": {},
   "outputs": [
    {
     "data": {
      "image/png": "[encoded data removed]",
      "text/plain": [
       "<Figure size 640x480 with 1 Axes>"
      ]
     },
     "metadata": {},
     "output_type": "display_data"
    }
   ],
   "source": [
    "plt.pie(df['Demand'].value_counts(),labels=df['Demand'].value_counts().keys(),explode=[.2,.2,.2],shadow=True,autopct='%1.1f%%')\n",
    "plt.show()"
   ]
  },
  {
   "cell_type": "code",
   "execution_count": 25,
   "id": "5ad75bd6",
   "metadata": {},
   "outputs": [
    {
     "data": {
      "text/plain": [
       "12, 2019    250\n",
       "11, 2019    226\n",
       "02, 2019    216\n",
       "03, 2019    213\n",
       "10, 2019    206\n",
       "01, 2019    203\n",
       "06, 2019    200\n",
       "08, 2019    198\n",
       "07, 2019    197\n",
       "05, 2019    196\n",
       "09, 2019    191\n",
       "04, 2019    190\n",
       "11, 2020      2\n",
       "09, 2020      1\n",
       "07, 2020      1\n",
       "Name: Date, dtype: int64"
      ]
     },
     "execution_count": 25,
     "metadata": {},
     "output_type": "execute_result"
    }
   ],
   "source": [
    "df.Date.value_counts()"
   ]
  },
  {
   "cell_type": "markdown",
   "id": "fcea43e6",
   "metadata": {},
   "source": [
    "### summition of profit in each month of the date"
   ]
  },
  {
   "cell_type": "code",
   "execution_count": 26,
   "id": "274e0153",
   "metadata": {},
   "outputs": [
    {
     "data": {
      "text/plain": [
       "Date\n",
       "11, 2020       2361\n",
       "07, 2020       3675\n",
       "09, 2020      12915\n",
       "04, 2019    1284671\n",
       "09, 2019    1363443\n",
       "05, 2019    1442965\n",
       "06, 2019    1448467\n",
       "01, 2019    1465928\n",
       "07, 2019    1496309\n",
       "10, 2019    1539552\n",
       "08, 2019    1636414\n",
       "11, 2019    1646791\n",
       "03, 2019    1673169\n",
       "02, 2019    1719726\n",
       "12, 2019    1976393\n",
       "Name: Profit, dtype: int64"
      ]
     },
     "execution_count": 26,
     "metadata": {},
     "output_type": "execute_result"
    }
   ],
   "source": [
    "df.groupby('Date')['Profit'].sum().sort_values()"
   ]
  },
  {
   "cell_type": "code",
   "execution_count": 27,
   "id": "ea26f4c9",
   "metadata": {},
   "outputs": [],
   "source": [
    "df.to_excel(r'C:\\Users\\Z.A.M\\Downloads\\EET TEST\\Hotels_Cleaned.xlsx',index=False)"
   ]
  }
 ],
 "metadata": {
  "kernelspec": {
   "display_name": "Python 3 (ipykernel)",
   "language": "python",
   "name": "python3"
  },
  "language_info": {
   "codemirror_mode": {
    "name": "ipython",
    "version": 3
   },
   "file_extension": ".py",
   "mimetype": "text/x-python",
   "name": "python",
   "nbconvert_exporter": "python",
   "pygments_lexer": "ipython3",
   "version": "3.9.13"
  }
 },
 "nbformat": 4,
 "nbformat_minor": 5
}
